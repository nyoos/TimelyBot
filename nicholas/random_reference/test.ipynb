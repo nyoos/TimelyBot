{
 "cells": [
  {
   "cell_type": "code",
   "execution_count": 3,
   "metadata": {},
   "outputs": [
    {
     "data": {
      "text/plain": [
       "False"
      ]
     },
     "execution_count": 3,
     "metadata": {},
     "output_type": "execute_result"
    }
   ],
   "source": [
    "a = 5.1\n",
    "a in range(1, 8)"
   ]
  },
  {
   "cell_type": "code",
   "execution_count": 6,
   "metadata": {},
   "outputs": [
    {
     "name": "stdout",
     "output_type": "stream",
     "text": [
      "thingUser does not exist.\n"
     ]
    }
   ],
   "source": [
    "def raiser():\n",
    "\traise Exception('User does not exist.')\n",
    "\n",
    "try:\n",
    "\traiser()\n",
    "except Exception as e:\n",
    "\tprint('thing' + str(e))"
   ]
  }
 ],
 "metadata": {
  "interpreter": {
   "hash": "732e330ed03c847279606986f1993da4c707690a87e9f447e6bee57739b158b2"
  },
  "kernelspec": {
   "display_name": "Python 3.9.1 64-bit",
   "language": "python",
   "name": "python3"
  },
  "language_info": {
   "codemirror_mode": {
    "name": "ipython",
    "version": 3
   },
   "file_extension": ".py",
   "mimetype": "text/x-python",
   "name": "python",
   "nbconvert_exporter": "python",
   "pygments_lexer": "ipython3",
   "version": "3.9.1"
  },
  "orig_nbformat": 4
 },
 "nbformat": 4,
 "nbformat_minor": 2
}
